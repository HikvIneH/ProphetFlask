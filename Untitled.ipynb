{
 "cells": [
  {
   "cell_type": "code",
   "execution_count": 1,
   "metadata": {},
   "outputs": [],
   "source": [
    "import pandas as pd\n",
    "import numpy as np\n",
    "from fbprophet import Prophet\n",
    "import pickle\n",
    "import datetime\n",
    "import matplotlib.pyplot as plt\n",
    "\n",
    "\n",
    "import os.path\n",
    "import fix_yahoo_finance as yf\n",
    "import pandas as pd\n",
    "\n",
    "plt.rcParams['figure.figsize']=(20,10)\n",
    "plt.style.use('ggplot')"
   ]
  },
  {
   "cell_type": "code",
   "execution_count": 2,
   "metadata": {},
   "outputs": [
    {
     "name": "stdout",
     "output_type": "stream",
     "text": [
      "2018-11-18\n"
     ]
    }
   ],
   "source": [
    "h = 6\n",
    "endDate = datetime.datetime.now().date()\n",
    "startDate = datetime.datetime.strptime(str(endDate), u'%Y-%m-%d').date() - datetime.timedelta(days=h)\n",
    "print startDate"
   ]
  },
  {
   "cell_type": "code",
   "execution_count": 13,
   "metadata": {},
   "outputs": [
    {
     "name": "stdout",
     "output_type": "stream",
     "text": [
      "target not in the list\n"
     ]
    },
    {
     "data": {
      "text/html": [
       "<div>\n",
       "<style scoped>\n",
       "    .dataframe tbody tr th:only-of-type {\n",
       "        vertical-align: middle;\n",
       "    }\n",
       "\n",
       "    .dataframe tbody tr th {\n",
       "        vertical-align: top;\n",
       "    }\n",
       "\n",
       "    .dataframe thead th {\n",
       "        text-align: right;\n",
       "    }\n",
       "</style>\n",
       "<table border=\"1\" class=\"dataframe\">\n",
       "  <thead>\n",
       "    <tr style=\"text-align: right;\">\n",
       "      <th></th>\n",
       "      <th>Target</th>\n",
       "      <th>High</th>\n",
       "      <th>Low</th>\n",
       "      <th>Target</th>\n",
       "      <th>Adj Close</th>\n",
       "      <th>Volume</th>\n",
       "    </tr>\n",
       "    <tr>\n",
       "      <th>Date</th>\n",
       "      <th></th>\n",
       "      <th></th>\n",
       "      <th></th>\n",
       "      <th></th>\n",
       "      <th></th>\n",
       "      <th></th>\n",
       "    </tr>\n",
       "  </thead>\n",
       "  <tbody>\n",
       "    <tr>\n",
       "      <th>2018-11-05</th>\n",
       "      <td>6467.049805</td>\n",
       "      <td>6475.799805</td>\n",
       "      <td>6406.689941</td>\n",
       "      <td>6433.740234</td>\n",
       "      <td>6433.740234</td>\n",
       "      <td>155758902</td>\n",
       "    </tr>\n",
       "    <tr>\n",
       "      <th>2018-11-06</th>\n",
       "      <td>6433.529785</td>\n",
       "      <td>6482.810059</td>\n",
       "      <td>6412.560059</td>\n",
       "      <td>6479.720215</td>\n",
       "      <td>6479.720215</td>\n",
       "      <td>239808254</td>\n",
       "    </tr>\n",
       "    <tr>\n",
       "      <th>2018-11-07</th>\n",
       "      <td>6479.720215</td>\n",
       "      <td>6562.790039</td>\n",
       "      <td>6476.589844</td>\n",
       "      <td>6529.680176</td>\n",
       "      <td>6529.680176</td>\n",
       "      <td>360052788</td>\n",
       "    </tr>\n",
       "    <tr>\n",
       "      <th>2018-11-08</th>\n",
       "      <td>6530.939941</td>\n",
       "      <td>6542.419922</td>\n",
       "      <td>6438.270020</td>\n",
       "      <td>6446.060059</td>\n",
       "      <td>6446.060059</td>\n",
       "      <td>273205386</td>\n",
       "    </tr>\n",
       "    <tr>\n",
       "      <th>2018-11-09</th>\n",
       "      <td>6446.060059</td>\n",
       "      <td>6457.970215</td>\n",
       "      <td>6358.819824</td>\n",
       "      <td>6378.779785</td>\n",
       "      <td>6378.779785</td>\n",
       "      <td>174106736</td>\n",
       "    </tr>\n",
       "  </tbody>\n",
       "</table>\n",
       "</div>"
      ],
      "text/plain": [
       "                 Target         High          Low       Target    Adj Close  \\\n",
       "Date                                                                          \n",
       "2018-11-05  6467.049805  6475.799805  6406.689941  6433.740234  6433.740234   \n",
       "2018-11-06  6433.529785  6482.810059  6412.560059  6479.720215  6479.720215   \n",
       "2018-11-07  6479.720215  6562.790039  6476.589844  6529.680176  6529.680176   \n",
       "2018-11-08  6530.939941  6542.419922  6438.270020  6446.060059  6446.060059   \n",
       "2018-11-09  6446.060059  6457.970215  6358.819824  6378.779785  6378.779785   \n",
       "\n",
       "               Volume  \n",
       "Date                   \n",
       "2018-11-05  155758902  \n",
       "2018-11-06  239808254  \n",
       "2018-11-07  360052788  \n",
       "2018-11-08  273205386  \n",
       "2018-11-09  174106736  "
      ]
     },
     "execution_count": 13,
     "metadata": {},
     "output_type": "execute_result"
    }
   ],
   "source": [
    "filename='./old/Bitcoin.csv'\n",
    "\n",
    "change = 'dsad'\n",
    "\n",
    "\n",
    "df_historical = pd.read_csv(filename, index_col=[0])\n",
    "try:\n",
    "    if change in list(df_historical):\n",
    "        df = df_historical.rename(columns={change:'Target'})\n",
    "        print 'target is in the list'\n",
    "    else:\n",
    "        print 'target not in the list'\n",
    "except pd.errors.EmptyDataError as e:\n",
    "    print e\n",
    "    \n",
    "df.tail()"
   ]
  }
 ],
 "metadata": {
  "kernelspec": {
   "display_name": "Python 2",
   "language": "python",
   "name": "python2"
  },
  "language_info": {
   "codemirror_mode": {
    "name": "ipython",
    "version": 2
   },
   "file_extension": ".py",
   "mimetype": "text/x-python",
   "name": "python",
   "nbconvert_exporter": "python",
   "pygments_lexer": "ipython2",
   "version": "2.7.15"
  }
 },
 "nbformat": 4,
 "nbformat_minor": 2
}
